{
 "cells": [
  {
   "cell_type": "code",
   "execution_count": 1,
   "metadata": {},
   "outputs": [
    {
     "name": "stdout",
     "output_type": "stream",
     "text": [
      "Epoch 1/200\n",
      "20/20 [==============================] - 5s 121ms/step - loss: 1.1990 - accuracy: 0.5053 - val_loss: 0.7721 - val_accuracy: 0.6243\n",
      "Epoch 50/200\n",
      "20/20 [==============================] - 2s 83ms/step - loss: 0.1085 - accuracy: 0.9596 - val_loss: 0.0724 - val_accuracy: 0.9757\n",
      "Epoch 100/200\n",
      "20/20 [==============================] - 1s 69ms/step - loss: 0.0710 - accuracy: 0.9739 - val_loss: 0.0677 - val_accuracy: 0.9812\n",
      "Epoch 150/200\n",
      "20/20 [==============================] - 2s 85ms/step - loss: 0.0454 - accuracy: 0.9841 - val_loss: 0.0765 - val_accuracy: 0.9804\n",
      "Epoch 200/200\n",
      "20/20 [==============================] - 1s 75ms/step - loss: 0.0420 - accuracy: 0.9841 - val_loss: 0.0797 - val_accuracy: 0.9796\n",
      "108/108 [==============================] - 1s 10ms/step - loss: 0.1117 - accuracy: 0.9752\n",
      
      "Accuracy 0.9752258816671524\n"
     ]
    }
   ],
   "source": [
    "import pandas as pd                                         # loading and cleaning the dataset\n",
    "import numpy as np                                          # manipulating it\n",
    "\n",
    "from sklearn.model_selection import train_test_split\n",
    "from sklearn.metrics import accuracy_score \n",
    "\n",
    "import tensorflow as tf\n",
    "from tensorflow import keras\n",
    "\n",
    "####################################### Preparing data\n",
    "\n",
    "path=\"C:/Users/vanes/OneDrive - Universitat de Barcelona/8e semestre/ML-EELS/\"\n",
    "\n",
    "ds = path + '/Mn_Fe_dataset.pkl'\n",
    "lb = path + '/Mn_Fe_labels.pkl'\n",
    "\n",
    "X = pd.read_pickle(ds)\n",
    "y = pd.read_pickle(lb)\n",
    "\n",
    "#X = X.to_numpy()\n",
    "y = np.array(y)\n",
    "\n",
    "X_train, X_test, y_train, y_test = train_test_split(X, y, test_size = 0.35, random_state = 0)\n",
    "\n",
    "####################################### Defining the model\n",
    "\n",
    "model = keras.Sequential([                                \n",
    "    keras.layers.Dense(1200, activation='relu', input_shape=(X_train.shape[1],)),          \n",
    "    keras.layers.Dropout(0.7),\n",
    "    keras.layers.Dense((600/2), activation='relu'),\n",
    "    keras.layers.Dropout(0.7),\n",
    "    keras.layers.Dense((600/3), activation='relu'),\n",
    "    keras.layers.Dropout(0.7),\n",
    "    keras.layers.Dense(5, activation='softmax')\n",
    "])\n",
    "\n",
    "# the last layer need to be 2, affiliation yes (1) or not (0), but with softmax we get their probabilities\n",
    "\n",
    "model.compile(optimizer=tf.keras.optimizers.Adam(), # optimizer='adam'\n",
    "              loss='sparse_categorical_crossentropy',   \n",
    "              metrics=['accuracy'])\n",
    "\n",
    "######################################## Training and evaluating the mdeo\n",
    "\n",
    "model.fit(X_train, y_train, validation_split=0.2, batch_size=256, epochs=200) \n",
    "test_loss, test_acc = model.evaluate(X_test, y_test, verbose=1)\n",
    "# print('\\nTest accuracy:', test_acc) \n",
    "\n",
    "######################################## Making predictions\n",
    "\n",
    "pred_prob = model.predict(X_test)\n",
    "predictions = []\n",
    "\n",
    "for i in range (0,len(pred_prob)):\n",
    "    predictions.append(np.argmax(pred_prob[i]))\n",
    "\n",
    "######################################## Accuracy\n",
    "\n",
    "print('Accuracy', accuracy_score(y_test, predictions))"
   ]
  },
  {
   "cell_type": "code",
   "execution_count": 2,
   "metadata": {},
   "outputs": [
    {
     "name": "stdout",
     "output_type": "stream",
     "text": [
      "              precision    recall  f1-score   support\n",
      "\n",
      "           0       0.98      0.98      0.98      1660\n",
      "           1       0.94      0.96      0.95       671\n",
      "           2       0.99      1.00      1.00       347\n",
      "           3       0.96      0.98      0.97       305\n",
      "           4       0.99      0.97      0.98       448\n",
      "\n",
      "    accuracy                           0.98      3431\n",
      "   macro avg       0.97      0.98      0.98      3431\n",
      "weighted avg       0.98      0.98      0.98      3431\n",
      "\n"
     ]
    },
    {
     "data": {
      "image/png": "[encoded data removed]",
      "text/plain": [
       "<Figure size 432x360 with 2 Axes>"
      ]
     },
     "metadata": {
      "needs_background": "light"
     },
     "output_type": "display_data"
    }
   ],
   "source": [
    "from sklearn.metrics import confusion_matrix, classification_report\n",
    "print(classification_report(y_test, predictions))\n",
    "\n",
    "\n",
    "import matplotlib\n",
    "import numpy as np\n",
    "import matplotlib.pyplot as plt\n",
    "import seaborn as sns\n",
    "\n",
    "plt.style.use('default')\n",
    "%matplotlib inline\n",
    "\n",
    "# matplotlib.use(\"pgf\")\n",
    "# matplotlib.rcParams.update({\n",
    "#     \"pgf.texsystem\": \"pdflatex\",\n",
    "#     'font.family': 'serif',\n",
    "#     'text.usetex': True,\n",
    "#     'pgf.rcfonts': False,\n",
    "# })\n",
    "\n",
    "cm = confusion_matrix(predictions, y_test)\n",
    "\n",
    "fig, ax = plt.subplots(1,1,figsize=(6,5))\n",
    "sns.heatmap(cm, annot = True)\n",
    "plt.tick_params(axis='x', direction='in')\n",
    "plt.tick_params(axis='y', direction='in')\n",
    "plt.ylabel('Predicted class')\n",
    "plt.xlabel('Actual class')\n",
    "plt.tight_layout()"
   ]
  }
 ],
 "metadata": {
  "kernelspec": {
   "display_name": "Python 3.9.7 ('base')",
   "language": "python",
   "name": "python3"
  },
  "language_info": {
   "codemirror_mode": {
    "name": "ipython",
    "version": 3
   },
   "file_extension": ".py",
   "mimetype": "text/x-python",
   "name": "python",
   "nbconvert_exporter": "python",
   "pygments_lexer": "ipython3",
   "version": "3.9.7"
  },
  "orig_nbformat": 4,
  "vscode": {
   "interpreter": {
    "hash": "0bd2920eeba004d5c7d3ce83d5987a2a3c2e4b63027002861dbe1ab2fd1ed095"
   }
  }
 },
 "nbformat": 4,
 "nbformat_minor": 2
}
