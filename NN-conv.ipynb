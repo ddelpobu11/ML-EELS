{
 "cells": [
  {
   "cell_type": "code",
   "execution_count": 1,
   "metadata": {},
   "outputs": [
    {
     "name": "stdout",
     "output_type": "stream",
     "text": [
      "Model: \"sequential\"\n",
      "_________________________________________________________________\n",
      " Layer (type)                Output Shape              Param #   \n",
      "=================================================================\n",
      " conv1d (Conv1D)             (None, 698, 32)           128       \n",
      "                                                                 \n",
      " max_pooling1d (MaxPooling1D  (None, 349, 32)          0         \n",
      " )                                                               \n",
      "                                                                 \n",
      " conv1d_1 (Conv1D)           (None, 347, 64)           6208      \n",
      "                                                                 \n",
      " max_pooling1d_1 (MaxPooling  (None, 173, 64)          0         \n",
      " 1D)                                                             \n",
      "                                                                 \n",
      " flatten (Flatten)           (None, 11072)             0         \n",
      "                                                                 \n",
      " dense (Dense)               (None, 1200)              13287600  \n",
      "                                                                 \n",
      " dense_1 (Dense)             (None, 5)                 6005      \n",
      "                                                                 \n",
      "=================================================================\n",
      "Total params: 13,299,941\n",
      "Trainable params: 13,299,941\n",
      "Non-trainable params: 0\n",
      "_________________________________________________________________\n",
      "Epoch 1/10\n",
      "80/80 [==============================] - 37s 412ms/step - loss: 0.2613 - accuracy: 0.8982 - val_loss: 0.0729 - val_accuracy: 0.9765\n",
      "Epoch 2/10\n",
      "80/80 [==============================] - 29s 361ms/step - loss: 0.0466 - accuracy: 0.9859 - val_loss: 0.0369 - val_accuracy: 0.9929\n",
      "Epoch 3/10\n",
      "80/80 [==============================] - 24s 302ms/step - loss: 0.0182 - accuracy: 0.9943 - val_loss: 0.0196 - val_accuracy: 0.9953\n",
      "Epoch 4/10\n",
      "80/80 [==============================] - 21s 268ms/step - loss: 0.0349 - accuracy: 0.9884 - val_loss: 0.0354 - val_accuracy: 0.9906\n",
      "Epoch 5/10\n",
      "80/80 [==============================] - 20s 249ms/step - loss: 0.0163 - accuracy: 0.9953 - val_loss: 0.0572 - val_accuracy: 0.9788\n",
      "Epoch 6/10\n",
      "80/80 [==============================] - 28s 344ms/step - loss: 0.0077 - accuracy: 0.9976 - val_loss: 0.0234 - val_accuracy: 0.9953\n",
      "Epoch 7/10\n",
      "80/80 [==============================] - 27s 344ms/step - loss: 0.0107 - accuracy: 0.9971 - val_loss: 0.0335 - val_accuracy: 0.9945\n",
      "Epoch 8/10\n",
      "80/80 [==============================] - 26s 324ms/step - loss: 0.0094 - accuracy: 0.9973 - val_loss: 0.0228 - val_accuracy: 0.9953\n",
      "Epoch 9/10\n",
      "80/80 [==============================] - 26s 322ms/step - loss: 0.0028 - accuracy: 0.9994 - val_loss: 0.0191 - val_accuracy: 0.9961\n",
      "Epoch 10/10\n",
      "80/80 [==============================] - 31s 386ms/step - loss: 5.8658e-04 - accuracy: 1.0000 - val_loss: 0.0184 - val_accuracy: 0.9969\n",
      "108/108 [==============================] - 6s 54ms/step - loss: 0.0278 - accuracy: 0.9927\n",
      "Accuracy 0.992713494607986\n"
     ]
    }
   ],
   "source": [
    "import pandas as pd                                         # loading and cleaning the dataset\n",
    "import numpy as np                                          # manipulating it\n",
    "\n",
    "from sklearn.model_selection import train_test_split\n",
    "from sklearn.metrics import accuracy_score \n",
    "\n",
    "import tensorflow as tf\n",
    "from tensorflow import keras\n",
    "\n",
    "####################################### Preparing data\n",
    "\n",
    "path=\"C:/Users/vanes/OneDrive - Universitat de Barcelona/8e semestre/ML-EELS/\"\n",
    "\n",
    "ds = path + '/Mn_Fe_dataset.pkl'\n",
    "lb = path + '/Mn_Fe_labels.pkl'\n",
    "\n",
    "X = pd.read_pickle(ds)\n",
    "y = pd.read_pickle(lb)\n",
    "\n",
    "#X = X.to_numpy()\n",
    "y = np.array(y)\n",
    "\n",
    "X_train, X_test, y_train, y_test = train_test_split(X, y, test_size = 0.35, random_state = 0)\n",
    "\n",
    "####################################### Defining the model\n",
    "\n",
    "model = keras.Sequential([\n",
    "    keras.layers.Conv1D(filters=32, kernel_size=3, activation='relu', input_shape=(X_train.shape[1],1)),\n",
    "    keras.layers.MaxPooling1D(pool_size=2, strides=2),\n",
    "\n",
    "    keras.layers.Conv1D(filters=64, kernel_size=3, activation='relu'),\n",
    "    keras.layers.MaxPooling1D(pool_size=2, strides=2),\n",
    "\n",
    "    keras.layers.Flatten(),            \n",
    "    keras.layers.Dense(1200, activation='relu'),      \n",
    "    keras.layers.Dense(5, activation='softmax')\n",
    "])\n",
    "\n",
    "model.summary()     \n",
    "\n",
    "# the last layer need to be 2, affiliation yes (1) or not (0), but with softmax we get their probabilities\n",
    "\n",
    "model.compile(optimizer=tf.keras.optimizers.Adam(), # optimizer='adam'\n",
    "              loss='sparse_categorical_crossentropy',   \n",
    "              metrics=['accuracy'])\n",
    "\n",
    "######################################## Training and evaluating the mdeo\n",
    "\n",
    "model.fit(X_train, y_train, validation_split=0.2, batch_size=64, epochs=10) \n",
    "test_loss, test_acc = model.evaluate(X_test, y_test, verbose=1)\n",
    "# print('\\nTest accuracy:', test_acc) \n",
    "\n",
    "######################################## Making predictions\n",
    "\n",
    "pred_prob = model.predict(X_test)\n",
    "predictions = []\n",
    "\n",
    "for i in range (0,len(pred_prob)):\n",
    "    predictions.append(np.argmax(pred_prob[i]))\n",
    "\n",
    "######################################## Accuracy\n",
    "\n",
    "print('Accuracy', accuracy_score(y_test, predictions))"
   ]
  },
  {
   "cell_type": "code",
   "execution_count": 8,
   "metadata": {},
   "outputs": [
    {
     "name": "stdout",
     "output_type": "stream",
     "text": [
      "              precision    recall  f1-score   support\n",
      "\n",
      "           0       1.00      1.00      1.00      1660\n",
      "           1       1.00      0.99      1.00       671\n",
      "           2       0.99      1.00      0.99       347\n",
      "           3       0.96      0.98      0.97       305\n",
      "           4       1.00      0.97      0.98       448\n",
      "\n",
      "    accuracy                           0.99      3431\n",
      "   macro avg       0.99      0.99      0.99      3431\n",
      "weighted avg       0.99      0.99      0.99      3431\n",
      "\n"
     ]
    },
    {
     "data": {
      "image/png": "[encoded data removed]",
      "text/plain": [
       "<Figure size 432x360 with 2 Axes>"
      ]
     },
     "metadata": {
      "needs_background": "light"
     },
     "output_type": "display_data"
    }
   ],
   "source": [
    "from sklearn.metrics import confusion_matrix, classification_report\n",
    "print(classification_report(y_test, predictions))\n",
    "\n",
    "\n",
    "import matplotlib\n",
    "import numpy as np\n",
    "import matplotlib.pyplot as plt\n",
    "import seaborn as sns\n",
    "\n",
    "plt.style.use('default')\n",
    "%matplotlib inline\n",
    "\n",
    "# matplotlib.use(\"pgf\")\n",
    "# matplotlib.rcParams.update({\n",
    "#     \"pgf.texsystem\": \"pdflatex\",\n",
    "#     'font.family': 'serif',\n",
    "#     'text.usetex': True,\n",
    "#     'pgf.rcfonts': False,\n",
    "# })\n",
    "\n",
    "cm = confusion_matrix(predictions, y_test)\n",
    "\n",
    "fig, ax = plt.subplots(1,1,figsize=(6,5))\n",
    "sns.heatmap(cm, annot = True)\n",
    "plt.tick_params(axis='x', direction='in')\n",
    "plt.tick_params(axis='y', direction='in')\n",
    "plt.ylabel('Predicted class')\n",
    "plt.xlabel('Actual class')\n",
    "plt.tight_layout()"
   ]
  }
 ],
 "metadata": {
  "kernelspec": {
   "display_name": "Python 3.9.7 ('base')",
   "language": "python",
   "name": "python3"
  },
  "language_info": {
   "codemirror_mode": {
    "name": "ipython",
    "version": 3
   },
   "file_extension": ".py",
   "mimetype": "text/x-python",
   "name": "python",
   "nbconvert_exporter": "python",
   "pygments_lexer": "ipython3",
   "version": "3.9.7"
  },
  "orig_nbformat": 4,
  "vscode": {
   "interpreter": {
    "hash": "0bd2920eeba004d5c7d3ce83d5987a2a3c2e4b63027002861dbe1ab2fd1ed095"
   }
  }
 },
 "nbformat": 4,
 "nbformat_minor": 2
}
