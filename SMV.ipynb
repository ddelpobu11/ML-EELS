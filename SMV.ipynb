{
 "cells": [
  {
   "cell_type": "code",
   "execution_count": 1,
   "metadata": {},
   "outputs": [
    {
     "name": "stdout",
     "output_type": "stream",
     "text": [
      "0.9711454386476246\n"
     ]
    }
   ],
   "source": [
    "import pandas as pd\n",
    "\n",
    "from sklearn import svm\n",
    "from sklearn.model_selection import train_test_split \n",
    "from sklearn.metrics import accuracy_score\n",
    "\n",
    "path=\"C:/Users/vanes/OneDrive - Universitat de Barcelona/8e semestre/ML-EELS/\"\n",
    "\n",
    "ds = path + '/Mn_Fe_dataset.pkl'\n",
    "lb = path + '/Mn_Fe_labels.pkl'\n",
    "\n",
    "X = pd.read_pickle(ds)\n",
    "y = pd.read_pickle(lb)\n",
    "\n",
    "X_train, X_test, y_train, y_test = train_test_split(X, y, test_size = 0.35, random_state = 0)\n",
    "\n",
    "clf = svm.SVC(kernel='linear')\n",
    "clf.fit(X_train, y_train)\n",
    "y_pred = clf.predict(X_test)\n",
    "\n",
    "print(accuracy_score(y_test, y_pred))"
   ]
  },
  {
   "cell_type": "code",
   "execution_count": 3,
   "metadata": {},
   "outputs": [
    {
     "name": "stdout",
     "output_type": "stream",
     "text": [
      "              precision    recall  f1-score   support\n",
      "\n",
      "           0       0.99      0.96      0.97      1660\n",
      "           1       0.91      0.97      0.94       671\n",
      "           2       0.99      1.00      1.00       347\n",
      "           3       0.98      0.98      0.98       305\n",
      "           4       0.99      0.98      0.99       448\n",
      "\n",
      "    accuracy                           0.97      3431\n",
      "   macro avg       0.97      0.98      0.97      3431\n",
      "weighted avg       0.97      0.97      0.97      3431\n",
      "\n"
     ]
    },
    {
     "data": {
      "image/png": "[encoded data removed]",
      "text/plain": [
       "<Figure size 432x360 with 2 Axes>"
      ]
     },
     "metadata": {
      "needs_background": "light"
     },
     "output_type": "display_data"
    }
   ],
   "source": [
    "from sklearn.metrics import confusion_matrix, classification_report\n",
    "print(classification_report(y_test, y_pred))\n",
    "\n",
    "\n",
    "import matplotlib\n",
    "import numpy as np\n",
    "import matplotlib.pyplot as plt\n",
    "import seaborn as sns\n",
    "\n",
    "plt.style.use('default')\n",
    "%matplotlib inline\n",
    "\n",
    "# matplotlib.use(\"pgf\")\n",
    "# matplotlib.rcParams.update({\n",
    "#     \"pgf.texsystem\": \"pdflatex\",\n",
    "#     'font.family': 'serif',\n",
    "#     'text.usetex': True,\n",
    "#     'pgf.rcfonts': False,\n",
    "# })\n",
    "\n",
    "cm = confusion_matrix(y_pred, y_test)\n",
    "\n",
    "fig, ax = plt.subplots(1,1,figsize=(6,5))\n",
    "sns.heatmap(cm, annot = True)\n",
    "plt.tick_params(axis='x', direction='in')\n",
    "plt.tick_params(axis='y', direction='in')\n",
    "plt.ylabel('Predicted class')\n",
    "plt.xlabel('Actual class')\n",
    "plt.tight_layout()"
   ]
  }
 ],
 "metadata": {
  "kernelspec": {
   "display_name": "Python 3.9.7 ('base')",
   "language": "python",
   "name": "python3"
  },
  "language_info": {
   "codemirror_mode": {
    "name": "ipython",
    "version": 3
   },
   "file_extension": ".py",
   "mimetype": "text/x-python",
   "name": "python",
   "nbconvert_exporter": "python",
   "pygments_lexer": "ipython3",
   "version": "3.9.7"
  },
  "orig_nbformat": 4,
  "vscode": {
   "interpreter": {
    "hash": "0bd2920eeba004d5c7d3ce83d5987a2a3c2e4b63027002861dbe1ab2fd1ed095"
   }
  }
 },
 "nbformat": 4,
 "nbformat_minor": 2
}
